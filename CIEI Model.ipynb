{
 "cells": [
  {
   "cell_type": "code",
   "execution_count": 1,
   "id": "c8d2bebc",
   "metadata": {},
   "outputs": [],
   "source": [
    "import pandas as pd\n",
    "import numpy as np\n",
    "import seaborn as sns\n",
    "import plotly.express as px\n",
    "import matplotlib.pyplot as plt"
   ]
  },
  {
   "cell_type": "code",
   "execution_count": 2,
   "id": "c5ffabd3",
   "metadata": {},
   "outputs": [
    {
     "data": {
      "text/html": [
       "<div>\n",
       "<style scoped>\n",
       "    .dataframe tbody tr th:only-of-type {\n",
       "        vertical-align: middle;\n",
       "    }\n",
       "\n",
       "    .dataframe tbody tr th {\n",
       "        vertical-align: top;\n",
       "    }\n",
       "\n",
       "    .dataframe thead th {\n",
       "        text-align: right;\n",
       "    }\n",
       "</style>\n",
       "<table border=\"1\" class=\"dataframe\">\n",
       "  <thead>\n",
       "    <tr style=\"text-align: right;\">\n",
       "      <th></th>\n",
       "      <th>STATE</th>\n",
       "      <th>TYPE</th>\n",
       "      <th>NWSC</th>\n",
       "      <th>NCO</th>\n",
       "      <th>RRK</th>\n",
       "      <th>RPP</th>\n",
       "      <th>FDP</th>\n",
       "      <th>EMP</th>\n",
       "      <th>FP</th>\n",
       "      <th>PICES</th>\n",
       "      <th>PSIESC</th>\n",
       "      <th>SD</th>\n",
       "      <th>SL</th>\n",
       "      <th>SSV</th>\n",
       "      <th>PF</th>\n",
       "      <th>SCORE</th>\n",
       "      <th>RANK</th>\n",
       "    </tr>\n",
       "  </thead>\n",
       "  <tbody>\n",
       "    <tr>\n",
       "      <th>0</th>\n",
       "      <td>KERALA</td>\n",
       "      <td>Government</td>\n",
       "      <td>19</td>\n",
       "      <td>6</td>\n",
       "      <td>12</td>\n",
       "      <td>6</td>\n",
       "      <td>5</td>\n",
       "      <td>8</td>\n",
       "      <td>1</td>\n",
       "      <td>1</td>\n",
       "      <td>8</td>\n",
       "      <td>48</td>\n",
       "      <td>48</td>\n",
       "      <td>9</td>\n",
       "      <td>4</td>\n",
       "      <td>15.83</td>\n",
       "      <td>1</td>\n",
       "    </tr>\n",
       "    <tr>\n",
       "      <th>1</th>\n",
       "      <td>WEST BENGAL</td>\n",
       "      <td>Government</td>\n",
       "      <td>18</td>\n",
       "      <td>8</td>\n",
       "      <td>9</td>\n",
       "      <td>14</td>\n",
       "      <td>3</td>\n",
       "      <td>6</td>\n",
       "      <td>2</td>\n",
       "      <td>0</td>\n",
       "      <td>7</td>\n",
       "      <td>44</td>\n",
       "      <td>43</td>\n",
       "      <td>7</td>\n",
       "      <td>8</td>\n",
       "      <td>14.54</td>\n",
       "      <td>2</td>\n",
       "    </tr>\n",
       "    <tr>\n",
       "      <th>2</th>\n",
       "      <td>MAHARASHTRA</td>\n",
       "      <td>Government</td>\n",
       "      <td>10</td>\n",
       "      <td>5</td>\n",
       "      <td>10</td>\n",
       "      <td>4</td>\n",
       "      <td>1</td>\n",
       "      <td>9</td>\n",
       "      <td>1</td>\n",
       "      <td>1</td>\n",
       "      <td>1</td>\n",
       "      <td>50</td>\n",
       "      <td>49</td>\n",
       "      <td>5</td>\n",
       "      <td>7</td>\n",
       "      <td>14.52</td>\n",
       "      <td>3</td>\n",
       "    </tr>\n",
       "    <tr>\n",
       "      <th>3</th>\n",
       "      <td>KERALA</td>\n",
       "      <td>Government</td>\n",
       "      <td>10</td>\n",
       "      <td>6</td>\n",
       "      <td>12</td>\n",
       "      <td>16</td>\n",
       "      <td>6</td>\n",
       "      <td>15</td>\n",
       "      <td>1</td>\n",
       "      <td>1</td>\n",
       "      <td>6</td>\n",
       "      <td>45</td>\n",
       "      <td>35</td>\n",
       "      <td>3</td>\n",
       "      <td>8</td>\n",
       "      <td>14.32</td>\n",
       "      <td>4</td>\n",
       "    </tr>\n",
       "    <tr>\n",
       "      <th>4</th>\n",
       "      <td>KERALA</td>\n",
       "      <td>Government</td>\n",
       "      <td>14</td>\n",
       "      <td>3</td>\n",
       "      <td>7</td>\n",
       "      <td>7</td>\n",
       "      <td>1</td>\n",
       "      <td>9</td>\n",
       "      <td>0</td>\n",
       "      <td>0</td>\n",
       "      <td>3</td>\n",
       "      <td>47</td>\n",
       "      <td>47</td>\n",
       "      <td>7</td>\n",
       "      <td>10</td>\n",
       "      <td>14.32</td>\n",
       "      <td>5</td>\n",
       "    </tr>\n",
       "  </tbody>\n",
       "</table>\n",
       "</div>"
      ],
      "text/plain": [
       "         STATE        TYPE  NWSC  NCO  RRK  RPP  FDP  EMP  FP  PICES  PSIESC  \\\n",
       "0       KERALA  Government    19    6   12    6    5    8   1      1       8   \n",
       "1  WEST BENGAL  Government    18    8    9   14    3    6   2      0       7   \n",
       "2  MAHARASHTRA  Government    10    5   10    4    1    9   1      1       1   \n",
       "3       KERALA  Government    10    6   12   16    6   15   1      1       6   \n",
       "4       KERALA  Government    14    3    7    7    1    9   0      0       3   \n",
       "\n",
       "   SD  SL  SSV  PF  SCORE  RANK  \n",
       "0  48  48    9   4  15.83     1  \n",
       "1  44  43    7   8  14.54     2  \n",
       "2  50  49    5   7  14.52     3  \n",
       "3  45  35    3   8  14.32     4  \n",
       "4  47  47    7  10  14.32     5  "
      ]
     },
     "execution_count": 2,
     "metadata": {},
     "output_type": "execute_result"
    }
   ],
   "source": [
    "dataset = pd.read_csv('FINAL_DRAFT.csv')\n",
    "dataset.head()"
   ]
  },
  {
   "cell_type": "markdown",
   "id": "ff26e08c",
   "metadata": {},
   "source": [
    "### Importing ML functions"
   ]
  },
  {
   "cell_type": "code",
   "execution_count": 3,
   "id": "3e958ab9",
   "metadata": {},
   "outputs": [],
   "source": [
    "from sklearn.model_selection import train_test_split\n",
    "from sklearn.linear_model import LinearRegression\n",
    "from sklearn.metrics import r2_score"
   ]
  },
  {
   "cell_type": "code",
   "execution_count": 4,
   "id": "733e8333",
   "metadata": {},
   "outputs": [
    {
     "data": {
      "text/plain": [
       "51.0"
      ]
     },
     "execution_count": 4,
     "metadata": {},
     "output_type": "execute_result"
    }
   ],
   "source": [
    "#selecting X and y\n",
    "\n",
    "X = dataset[['NWSC', 'NCO', 'RRK', 'EMP', 'RPP', 'FDP', 'FP', 'PSIESC', 'PICES','SD', 'SL', 'SSV', 'PF']]\n",
    "y = dataset['SCORE']\n",
    "\n",
    "# splitting dataset\n",
    "from sklearn.model_selection import train_test_split\n",
    "X_train, X_test, y_train, y_test = train_test_split(X, y, test_size=0.35, random_state=101)\n",
    "\n",
    "#making model\n",
    "lm = LinearRegression()\n",
    "lm.fit(X_train, y_train)\n",
    "\n",
    "#making predictions\n",
    "predictions = lm.predict(X_test)\n",
    "\n",
    "np.round(r2_score(y_test, predictions)*100)"
   ]
  },
  {
   "cell_type": "code",
   "execution_count": 5,
   "id": "ba83f033",
   "metadata": {},
   "outputs": [
    {
     "data": {
      "text/html": [
       "<div>\n",
       "<style scoped>\n",
       "    .dataframe tbody tr th:only-of-type {\n",
       "        vertical-align: middle;\n",
       "    }\n",
       "\n",
       "    .dataframe tbody tr th {\n",
       "        vertical-align: top;\n",
       "    }\n",
       "\n",
       "    .dataframe thead th {\n",
       "        text-align: right;\n",
       "    }\n",
       "</style>\n",
       "<table border=\"1\" class=\"dataframe\">\n",
       "  <thead>\n",
       "    <tr style=\"text-align: right;\">\n",
       "      <th></th>\n",
       "      <th>NWSC</th>\n",
       "      <th>NCO</th>\n",
       "      <th>RRK</th>\n",
       "      <th>EMP</th>\n",
       "      <th>RPP</th>\n",
       "      <th>FDP</th>\n",
       "      <th>FP</th>\n",
       "      <th>PSIESC</th>\n",
       "      <th>PICES</th>\n",
       "      <th>SD</th>\n",
       "      <th>SL</th>\n",
       "      <th>SSV</th>\n",
       "      <th>PF</th>\n",
       "    </tr>\n",
       "  </thead>\n",
       "  <tbody>\n",
       "    <tr>\n",
       "      <th>Coefficient</th>\n",
       "      <td>0.005747</td>\n",
       "      <td>-0.013009</td>\n",
       "      <td>-0.009302</td>\n",
       "      <td>-0.010653</td>\n",
       "      <td>-0.007318</td>\n",
       "      <td>0.027835</td>\n",
       "      <td>0.065359</td>\n",
       "      <td>0.001659</td>\n",
       "      <td>-0.007566</td>\n",
       "      <td>0.03461</td>\n",
       "      <td>0.092117</td>\n",
       "      <td>0.094632</td>\n",
       "      <td>0.092865</td>\n",
       "    </tr>\n",
       "  </tbody>\n",
       "</table>\n",
       "</div>"
      ],
      "text/plain": [
       "                 NWSC       NCO       RRK       EMP       RPP       FDP  \\\n",
       "Coefficient  0.005747 -0.013009 -0.009302 -0.010653 -0.007318  0.027835   \n",
       "\n",
       "                   FP    PSIESC     PICES       SD        SL       SSV  \\\n",
       "Coefficient  0.065359  0.001659 -0.007566  0.03461  0.092117  0.094632   \n",
       "\n",
       "                   PF  \n",
       "Coefficient  0.092865  "
      ]
     },
     "execution_count": 5,
     "metadata": {},
     "output_type": "execute_result"
    }
   ],
   "source": [
    "coeff_df = pd.DataFrame(lm.coef_,X.columns,columns=['Coefficient'])\n",
    "coeff_df.T"
   ]
  },
  {
   "cell_type": "markdown",
   "id": "2af87b5b",
   "metadata": {},
   "source": [
    "### making predictions"
   ]
  },
  {
   "cell_type": "code",
   "execution_count": 6,
   "id": "1fd7e95f",
   "metadata": {},
   "outputs": [],
   "source": [
    "import pickle\n",
    "pickle.dump(lm, open('lm_model.pkl','wb'))"
   ]
  },
  {
   "cell_type": "code",
   "execution_count": 7,
   "id": "c2d3e5d7",
   "metadata": {},
   "outputs": [
    {
     "name": "stdout",
     "output_type": "stream",
     "text": [
      "0.5107973805112451\n",
      "0.5078957231857233\n",
      "[ 0.00574712 -0.0130095  -0.00930245 -0.01065297 -0.00731795  0.02783524\n",
      "  0.0653587   0.00165949 -0.00756595  0.0346101   0.0921169   0.094632\n",
      "  0.09286532]\n",
      "5.62384692263923\n"
     ]
    }
   ],
   "source": [
    "print(lm.score(X_test,y_test))\n",
    "print(lm.score(X_train,y_train))\n",
    "print(lm.coef_)\n",
    "print(lm.intercept_)"
   ]
  },
  {
   "cell_type": "code",
   "execution_count": null,
   "id": "70460cb4",
   "metadata": {},
   "outputs": [],
   "source": []
  },
  {
   "cell_type": "code",
   "execution_count": null,
   "id": "dd86c0d5",
   "metadata": {},
   "outputs": [],
   "source": [
    " "
   ]
  }
 ],
 "metadata": {
  "kernelspec": {
   "display_name": "Python 3.9.5 ('.venv': venv)",
   "language": "python",
   "name": "python3"
  },
  "language_info": {
   "codemirror_mode": {
    "name": "ipython",
    "version": 3
   },
   "file_extension": ".py",
   "mimetype": "text/x-python",
   "name": "python",
   "nbconvert_exporter": "python",
   "pygments_lexer": "ipython3",
   "version": "3.9.5"
  },
  "vscode": {
   "interpreter": {
    "hash": "67993f8f4b23d4902154bfd5e9f636c28a1e1d160a4bc48dcadf84f7af7b3bff"
   }
  }
 },
 "nbformat": 4,
 "nbformat_minor": 5
}
